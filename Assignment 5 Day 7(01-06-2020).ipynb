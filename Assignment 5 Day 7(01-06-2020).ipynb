{
 "cells": [
  {
   "cell_type": "markdown",
   "metadata": {},
   "source": [
    "## CSE- 221710310015 - ETTOM.SRINIJA"
   ]
  },
  {
   "cell_type": "code",
   "execution_count": 2,
   "metadata": {},
   "outputs": [
    {
     "name": "stdout",
     "output_type": "stream",
     "text": [
      "meetingant94%\n",
      "enter yes or no for new passwordyes\n",
      "meetingmilk76'\n",
      "enter yes or no for new passwordno\n",
      "This is your desired password  meetingmilk76'\n"
     ]
    }
   ],
   "source": [
    "import random\n",
    "import string\n",
    "while True:\n",
    "    s1 = random.choice(string.punctuation)\n",
    "    s2 = str(random.randint(0,100))\n",
    "    verbs = [\"spying\",\"crying\",\"mating\",\"jumping\",\"laughing\",\"climbing\",\"meeting\",\"cooking\",\"yawning\",\"enjoying\"]\n",
    "    s3 = random.choice(verbs)\n",
    "    noun = [\"elephant\",\"milk\",\"sir\",\"burger\",\"moisturiser\",\"nails\",\"tree\",\"ant\",\"net\",\"monkey\"]\n",
    "    s4 = random.choice(noun)\n",
    "    print(s3+s4+s2+s1)\n",
    "    p1 =input(\"enter yes or no for new password\")\n",
    "    if p1 == \"no\" or p1 == \"NO\":\n",
    "        print(\"This is your desired password \", s3+s4+s2+s1)\n",
    "        break\n",
    "    elif p1 == \"YES\" or p1 == \"yes\":\n",
    "        continue"
   ]
  },
  {
   "cell_type": "code",
   "execution_count": null,
   "metadata": {},
   "outputs": [],
   "source": []
  }
 ],
 "metadata": {
  "kernelspec": {
   "display_name": "Python 3",
   "language": "python",
   "name": "python3"
  },
  "language_info": {
   "codemirror_mode": {
    "name": "ipython",
    "version": 3
   },
   "file_extension": ".py",
   "mimetype": "text/x-python",
   "name": "python",
   "nbconvert_exporter": "python",
   "pygments_lexer": "ipython3",
   "version": "3.7.3"
  }
 },
 "nbformat": 4,
 "nbformat_minor": 2
}
