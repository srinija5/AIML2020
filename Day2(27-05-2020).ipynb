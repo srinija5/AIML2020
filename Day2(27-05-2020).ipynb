{
 "cells": [
  {
   "cell_type": "markdown",
   "metadata": {},
   "source": [
    "# python\n"
   ]
  },
  {
   "cell_type": "markdown",
   "metadata": {},
   "source": [
    "\n",
    "### List of programming languages(ordered list)\n",
    "1. python\n",
    "2. java\n",
    "3. c\n",
    "4. c++\n",
    "5. .NET"
   ]
  },
  {
   "cell_type": "markdown",
   "metadata": {},
   "source": [
    "# ### List of programming languages(unordered list)\n",
    "- python\n",
    "    - core python\n",
    "- java\n",
    "- c\n",
    "-  c++\n",
    "-  .NET"
   ]
  },
  {
   "cell_type": "markdown",
   "metadata": {},
   "source": [
    "- **bold**\n",
    "- *italic*"
   ]
  },
  {
   "cell_type": "markdown",
   "metadata": {},
   "source": [
    "[click here](https://tinyurl.com/introduction-to-python)"
   ]
  },
  {
   "cell_type": "markdown",
   "metadata": {},
   "source": [
    "[click here](https://tinyurl.com/introduction-to-python)"
   ]
  },
  {
   "cell_type": "markdown",
   "metadata": {},
   "source": [
    "![image](https://image.shutterstock.com/image-photo/white-transparent-leaf-on-mirror-260nw-1029171697.jpg)"
   ]
  },
  {
   "cell_type": "markdown",
   "metadata": {},
   "source": [
    "<img src=\"https://image.shutterstock.com/image-photo/white-transparent-leaf-on-mirror-260nw-1029171697.jpg\">"
   ]
  },
  {
   "cell_type": "markdown",
   "metadata": {},
   "source": [
    "1. Different paradigms\n",
    "2. Interpreted programming language\n",
    "3. open source\n",
    "4. OOP\n",
    "4. dynamically programmed"
   ]
  },
  {
   "cell_type": "markdown",
   "metadata": {},
   "source": [
    "# Basics Of Python\n"
   ]
  },
  {
   "cell_type": "markdown",
   "metadata": {},
   "source": [
    "### Numerical Data Types\n",
    "1. Integer\n",
    "2. FLoat\n",
    "3. Complex"
   ]
  },
  {
   "cell_type": "code",
   "execution_count": 6,
   "metadata": {},
   "outputs": [
    {
     "name": "stdout",
     "output_type": "stream",
     "text": [
      "<class 'int'> <class 'float'> <class 'complex'>\n"
     ]
    }
   ],
   "source": [
    "a=10 #int\n",
    "b=10.25 #float\n",
    "c=89+12j #complext\n",
    "print(type(a),type(b),type(c))"
   ]
  },
  {
   "cell_type": "code",
   "execution_count": 9,
   "metadata": {},
   "outputs": [
    {
     "name": "stdout",
     "output_type": "stream",
     "text": [
      "(7+17j)\n",
      "6.0\n",
      "8.0\n"
     ]
    }
   ],
   "source": [
    "c=1+9j\n",
    "d=complex(6,8)\n",
    "print(d+c)\n",
    "print(d.real)\n",
    "print(d.imag)"
   ]
  },
  {
   "cell_type": "code",
   "execution_count": 13,
   "metadata": {},
   "outputs": [
    {
     "name": "stdout",
     "output_type": "stream",
     "text": [
      "enter a6\n",
      "enter b7\n",
      "13 -1 42\n"
     ]
    }
   ],
   "source": [
    "#input() - input for taking input from user\n",
    "#print()- output to print\n",
    "a=input(\"enter a\")\n",
    "b=input(\"enter b\")\n",
    "a1=int(a)\n",
    "b1=int(b)\n",
    "c=a1+b1\n",
    "print(c,a1-b1,end=\" \")\n",
    "print(a1*b1)"
   ]
  },
  {
   "cell_type": "code",
   "execution_count": 14,
   "metadata": {},
   "outputs": [],
   "source": [
    "#operators: perform tasks\n",
    "#operands: a+b : a,b are operands and \"+\" is operator\n"
   ]
  },
  {
   "cell_type": "markdown",
   "metadata": {},
   "source": [
    "### Arithmetic Operator : \n",
    "1. =,-,*,/,%,//(floor division),**(exponents)"
   ]
  },
  {
   "cell_type": "code",
   "execution_count": 16,
   "metadata": {},
   "outputs": [
    {
     "name": "stdout",
     "output_type": "stream",
     "text": [
      "a7\n",
      "b5\n",
      "12\n",
      "2\n",
      "35\n",
      "1.4\n",
      "2\n",
      "1\n",
      "16807\n"
     ]
    }
   ],
   "source": [
    "a= int(input(\"a\"))\n",
    "b= int(input(\"b\"))\n",
    "print(a+b)\n",
    "print(a-b)\n",
    "print(a*b)\n",
    "print(a/b)\n",
    "print(a%b) #remainder\n",
    "print(a//b) #inteher quotient value\n",
    "print(a**b) #exponent : a power b\n",
    "       "
   ]
  },
  {
   "cell_type": "markdown",
   "metadata": {},
   "source": [
    "### Relational Operators :\n",
    "1. <,>,<=,>=,==,!=\n",
    "Returns in True and False"
   ]
  },
  {
   "cell_type": "code",
   "execution_count": 17,
   "metadata": {},
   "outputs": [
    {
     "name": "stdout",
     "output_type": "stream",
     "text": [
      "a5\n",
      "b7\n",
      "b is big\n"
     ]
    }
   ],
   "source": [
    "a= int(input(\"a\"))\n",
    "b= int(input(\"b\"))\n",
    "if a<b:\n",
    "    print(\"b is big\")\n",
    "else :\n",
    "    print(\"a is big\")"
   ]
  },
  {
   "cell_type": "code",
   "execution_count": 18,
   "metadata": {},
   "outputs": [
    {
     "name": "stdout",
     "output_type": "stream",
     "text": [
      "a4\n",
      "b5\n",
      "True\n",
      "False\n"
     ]
    }
   ],
   "source": [
    "a= int(input(\"a\"))\n",
    "b= int(input(\"b\"))\n",
    "print(a<b)\n",
    "print(a>b)\n"
   ]
  },
  {
   "cell_type": "markdown",
   "metadata": {},
   "source": [
    "## Logical operators :\n",
    "1. and , or , not"
   ]
  },
  {
   "cell_type": "code",
   "execution_count": 21,
   "metadata": {},
   "outputs": [
    {
     "name": "stdout",
     "output_type": "stream",
     "text": [
      "a6\n",
      "b7\n",
      "True\n",
      "False\n"
     ]
    }
   ],
   "source": [
    "a= int(input(\"a\"))\n",
    "b= int(input(\"b\"))\n",
    "print(a<b and b>1)\n",
    "print(not a<b)"
   ]
  },
  {
   "cell_type": "markdown",
   "metadata": {},
   "source": [
    "## membership operators:\n",
    "1. in , not in"
   ]
  },
  {
   "cell_type": "markdown",
   "metadata": {},
   "source": [
    "### conditional statements:\n",
    "1. if\n",
    "2. else\n",
    "3. elif"
   ]
  },
  {
   "cell_type": "code",
   "execution_count": 23,
   "metadata": {},
   "outputs": [
    {
     "name": "stdout",
     "output_type": "stream",
     "text": [
      "a4\n",
      "b2\n",
      "c6\n",
      "c is big\n"
     ]
    }
   ],
   "source": [
    "#question find the largest of 3 numbers\n",
    "a= int(input(\"a\"))\n",
    "b= int(input(\"b\"))\n",
    "c= int(input(\"c\"))\n",
    "if(a>b and a>c):\n",
    "    print(\"a is big\")\n",
    "elif ( b>a and b>c):\n",
    "    print(\"b is big\")\n",
    "else:\n",
    "    print(\"c is big\")"
   ]
  },
  {
   "cell_type": "markdown",
   "metadata": {},
   "source": [
    "## Loops:\n",
    "1. While\n",
    "2. For"
   ]
  },
  {
   "cell_type": "code",
   "execution_count": 2,
   "metadata": {},
   "outputs": [
    {
     "name": "stdout",
     "output_type": "stream",
     "text": [
      "a5\n",
      "1\n",
      "2\n",
      "3\n",
      "4\n",
      "5\n"
     ]
    }
   ],
   "source": [
    "#print 1to n values \n",
    "a= int(input(\"a\"))\n",
    "i=1\n",
    "while i<=a:\n",
    "    print(i)\n",
    "    i += 1\n",
    "    "
   ]
  },
  {
   "cell_type": "code",
   "execution_count": null,
   "metadata": {},
   "outputs": [],
   "source": [
    "#print the sum of numbers from 1 to n\n",
    "n=int(input(\"enter n\"))"
   ]
  }
 ],
 "metadata": {
  "kernelspec": {
   "display_name": "Python 3",
   "language": "python",
   "name": "python3"
  },
  "language_info": {
   "codemirror_mode": {
    "name": "ipython",
    "version": 3
   },
   "file_extension": ".py",
   "mimetype": "text/x-python",
   "name": "python",
   "nbconvert_exporter": "python",
   "pygments_lexer": "ipython3",
   "version": "3.7.3"
  }
 },
 "nbformat": 4,
 "nbformat_minor": 2
}
