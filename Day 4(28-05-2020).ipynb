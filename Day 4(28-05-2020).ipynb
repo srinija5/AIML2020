{
 "cells": [
  {
   "cell_type": "code",
   "execution_count": 1,
   "metadata": {},
   "outputs": [
    {
     "data": {
      "text/plain": [
       "'C:\\\\Users\\\\Srinaja'"
      ]
     },
     "execution_count": 1,
     "metadata": {},
     "output_type": "execute_result"
    }
   ],
   "source": [
    "pwd\n"
   ]
  },
  {
   "cell_type": "markdown",
   "metadata": {},
   "source": [
    "### Strings\n",
    "1. \" \" or ' '(characters)-->'a'\n",
    "2. Strings are immutable--> can;t be changed\n",
    "3. collection of characters enclosed by quotation marks-->iterable object\n",
    "4. No need to type cast--> no need to use input() function"
   ]
  },
  {
   "cell_type": "code",
   "execution_count": 2,
   "metadata": {},
   "outputs": [
    {
     "name": "stdout",
     "output_type": "stream",
     "text": [
      "Enter a stringhello\n",
      "<class 'str'> <class 'str'>\n"
     ]
    }
   ],
   "source": [
    "s1=input(\"Enter a string\")\n",
    "s2='good afternoon'\n",
    "print(type(s1),type(s2))"
   ]
  },
  {
   "cell_type": "code",
   "execution_count": 8,
   "metadata": {},
   "outputs": [
    {
     "name": "stdout",
     "output_type": "stream",
     "text": [
      "Enter a stringhello\n",
      "<class 'str'> <class 'str'>\n",
      "hellogood afternoon\n"
     ]
    }
   ],
   "source": [
    "#operators supported by string : +(concatenate),*(repition), slice -[], slice range[:]\n",
    "s1=input(\"Enter a string\")\n",
    "s2='good afternoon'\n",
    "print(type(s1),type(s2))\n",
    "print(s1+s2)"
   ]
  },
  {
   "cell_type": "code",
   "execution_count": 9,
   "metadata": {},
   "outputs": [
    {
     "name": "stdout",
     "output_type": "stream",
     "text": [
      "hellohellohello\n"
     ]
    }
   ],
   "source": [
    "print(s1*3)"
   ]
  },
  {
   "cell_type": "code",
   "execution_count": 12,
   "metadata": {},
   "outputs": [
    {
     "name": "stdout",
     "output_type": "stream",
     "text": [
      "o\n",
      "l\n",
      "llo\n"
     ]
    }
   ],
   "source": [
    "print(s1[-1])\n",
    "print(s1[2])\n",
    "print(s1[2:])"
   ]
  },
  {
   "cell_type": "code",
   "execution_count": 13,
   "metadata": {},
   "outputs": [
    {
     "name": "stdout",
     "output_type": "stream",
     "text": [
      "hlo\n"
     ]
    }
   ],
   "source": [
    "#print alternate characters using slice range\n",
    "print(s1[0:5:2])"
   ]
  },
  {
   "cell_type": "code",
   "execution_count": 17,
   "metadata": {},
   "outputs": [
    {
     "name": "stdout",
     "output_type": "stream",
     "text": [
      "string1234321\n",
      "palindrome\n"
     ]
    }
   ],
   "source": [
    "#accept string from user and check whether palindrome or not\n",
    "s=input(\"string\")\n",
    "if s[::-1]==s:\n",
    "    print(\"palindrome\")\n",
    "else:\n",
    "    print(\"not\")"
   ]
  },
  {
   "cell_type": "code",
   "execution_count": 18,
   "metadata": {},
   "outputs": [
    {
     "name": "stdout",
     "output_type": "stream",
     "text": [
      "True\n",
      "False\n",
      "False\n",
      "False\n"
     ]
    }
   ],
   "source": [
    "s4=\"python\"\n",
    "print(\"on\"in s4)\n",
    "print(\"po\"in s4)\n",
    "print(\"py\"not in s4)\n",
    "print(\"ho\"not in s4)"
   ]
  },
  {
   "cell_type": "markdown",
   "metadata": {},
   "source": [
    "### Built-in functions\n",
    "1. len()\n",
    "2. max()\n",
    "3. min()\n",
    "4. str() ->conveting data type to string data type"
   ]
  },
  {
   "cell_type": "code",
   "execution_count": 23,
   "metadata": {},
   "outputs": [
    {
     "name": "stdout",
     "output_type": "stream",
     "text": [
      "6\n",
      "c\n",
      "1\n"
     ]
    }
   ],
   "source": [
    "s5=\"abc123\"\n",
    "print(len(s5))\n",
    "print(max(s5)) ##comparision takes place in ascii values\n",
    "print(min(s5)) # same as above -> ascii values"
   ]
  },
  {
   "cell_type": "markdown",
   "metadata": {},
   "source": [
    "### Built in methods:\n",
    "1. capitalize()\n",
    "2. isalpha()\n",
    "3. isdigit()\n",
    "4. isalnum() #both alphabet and number\n",
    "5. isupper()\n",
    "6. islower()\n",
    "7. swapcase()\n",
    "8. count()\n",
    "9. split() ->return type is list"
   ]
  },
  {
   "cell_type": "code",
   "execution_count": 27,
   "metadata": {},
   "outputs": [
    {
     "name": "stdout",
     "output_type": "stream",
     "text": [
      "5\n",
      "Hello\n",
      "True\n",
      "False\n",
      "True\n",
      "False\n",
      "False\n",
      "True\n",
      "False\n",
      "True\n",
      "True\n"
     ]
    }
   ],
   "source": [
    "s=\"hello\"\n",
    "print(len(s))\n",
    "s=s.capitalize()\n",
    "print(s)\n",
    "s1=\"hello\"\n",
    "s2=\"abc123\"\n",
    "s3=\"123\"\n",
    "print(s1.isalpha())\n",
    "print(s1.isdigit())\n",
    "print(s1.isalnum())\n",
    "print(s2.isalpha())\n",
    "print(s2.isdigit())\n",
    "print(s2.isalnum())\n",
    "print(s3.isalpha())\n",
    "print(s3.isdigit())\n",
    "print(s3.isalnum())"
   ]
  },
  {
   "cell_type": "code",
   "execution_count": 28,
   "metadata": {},
   "outputs": [
    {
     "name": "stdout",
     "output_type": "stream",
     "text": [
      "['Hello']\n",
      "['a', 'b', 'c', 'd']\n"
     ]
    }
   ],
   "source": [
    "#split\n",
    "print(s.split())\n",
    "s1=\"a,b,c,d\"\n",
    "print(s1.split(\",\"))"
   ]
  },
  {
   "cell_type": "code",
   "execution_count": 29,
   "metadata": {},
   "outputs": [
    {
     "name": "stdout",
     "output_type": "stream",
     "text": [
      "azc\n"
     ]
    }
   ],
   "source": [
    "#replace\n",
    "s=\"abc\"\n",
    "s=s.replace('b','z')\n",
    "print(s)"
   ]
  },
  {
   "cell_type": "code",
   "execution_count": 7,
   "metadata": {},
   "outputs": [
    {
     "name": "stdout",
     "output_type": "stream",
     "text": [
      "enter stringabcabc\n",
      "enter the term index5\n",
      "acabc\n"
     ]
    }
   ],
   "source": [
    "s=input(\"enter string\")\n",
    "n=int(input(\"enter the term index\"))\n",
    "s=s.replace(s[n-1],\"\",1) #1 is for only first occurence of the alphabet to be replaced\n",
    "#string.replace(old value,new value,count)\n",
    "print(s)"
   ]
  },
  {
   "cell_type": "markdown",
   "metadata": {},
   "source": [
    "## for loop:\n",
    "1. for loop with range() function:\n",
    "    - for variable_name in range(start,stop,step):\n",
    "2. for loop with iterable object"
   ]
  },
  {
   "cell_type": "code",
   "execution_count": 10,
   "metadata": {},
   "outputs": [
    {
     "name": "stdout",
     "output_type": "stream",
     "text": [
      "1\n",
      "2\n",
      "3\n",
      "4\n",
      "5\n",
      "6\n",
      "7\n",
      "8\n",
      "9\n",
      "10\n"
     ]
    }
   ],
   "source": [
    "#print numbers from 1to n\n",
    "n=10\n",
    "for i in range(1,n+1):\n",
    "    print(i)\n",
    "    i=i+1"
   ]
  },
  {
   "cell_type": "code",
   "execution_count": 16,
   "metadata": {},
   "outputs": [
    {
     "name": "stdout",
     "output_type": "stream",
     "text": [
      "p\n",
      "y\n",
      "t\n",
      "h\n",
      "o\n",
      "n\n",
      "p\n",
      "y\n",
      "t\n",
      "h\n",
      "o\n",
      "n\n",
      "p\n",
      "y\n",
      "t\n",
      "h\n",
      "o\n",
      "n\n"
     ]
    }
   ],
   "source": [
    "s=\"python\"\n",
    "for i in s:\n",
    "    print(i)\n",
    "\n",
    "#while loop\n",
    "i=0\n",
    "n=len(s)\n",
    "while i<=n-1:\n",
    "    print(s[i])\n",
    "    i=i+1\n",
    "#for loop without iterable objects\n",
    "for i in range(0,len(s)):\n",
    "    print(s[i])"
   ]
  },
  {
   "cell_type": "code",
   "execution_count": 29,
   "metadata": {},
   "outputs": [
    {
     "name": "stdout",
     "output_type": "stream",
     "text": [
      "enter the stringsrinija\n",
      "3 4\n"
     ]
    }
   ],
   "source": [
    "#accept a string from the user and count number of vowels and consonants and special characters in string\n",
    "s=input(\"enter the string\")\n",
    "countv=0\n",
    "countc=0\n",
    "counts=0\n",
    "for i in range(0,len(s)):\n",
    "    if s[i]==\"a\" or s[i]==\"e\" or s[i]==\"i\" or s[i]==\"o\" or s[i]==\"u\":\n",
    "        countv +=1\n",
    "    else:\n",
    "        countc +=1\n",
    "print(countv,countc)"
   ]
  },
  {
   "cell_type": "code",
   "execution_count": null,
   "metadata": {},
   "outputs": [],
   "source": []
  }
 ],
 "metadata": {
  "kernelspec": {
   "display_name": "Python 3",
   "language": "python",
   "name": "python3"
  },
  "language_info": {
   "codemirror_mode": {
    "name": "ipython",
    "version": 3
   },
   "file_extension": ".py",
   "mimetype": "text/x-python",
   "name": "python",
   "nbconvert_exporter": "python",
   "pygments_lexer": "ipython3",
   "version": "3.7.3"
  }
 },
 "nbformat": 4,
 "nbformat_minor": 2
}
