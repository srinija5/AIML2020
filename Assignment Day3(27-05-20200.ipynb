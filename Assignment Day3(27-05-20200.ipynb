{
 "cells": [
  {
   "cell_type": "code",
   "execution_count": 7,
   "metadata": {},
   "outputs": [
    {
     "name": "stdout",
     "output_type": "stream",
     "text": [
      "* \n",
      "* * \n",
      "* * * \n",
      "* * * * \n",
      "* * * * * \n"
     ]
    }
   ],
   "source": [
    "#Generate a Pattern \n",
    "k=1\n",
    "for i in range(0,5):\n",
    "    for j in range (0,k):\n",
    "        print(\"*\", end=\" \")\n",
    "    k=k+1\n",
    "    print()"
   ]
  },
  {
   "cell_type": "code",
   "execution_count": 14,
   "metadata": {},
   "outputs": [
    {
     "name": "stdout",
     "output_type": "stream",
     "text": [
      "Enter a number5\n",
      "5 * 1 = 5\n",
      "5 * 2 = 10\n",
      "5 * 3 = 15\n",
      "5 * 4 = 20\n",
      "5 * 5 = 25\n",
      "5 * 6 = 30\n",
      "5 * 7 = 35\n",
      "5 * 8 = 40\n",
      "5 * 9 = 45\n",
      "5 * 10 = 50\n"
     ]
    }
   ],
   "source": [
    "#display the multiplication table of k. take the value from user\n",
    "num= int(input(\"Enter a number\"))\n",
    "i=1\n",
    "while i<11 :\n",
    "    print(num, \"*\",i, \"=\", num*i)\n",
    "    i=i+1"
   ]
  },
  {
   "cell_type": "code",
   "execution_count": 10,
   "metadata": {},
   "outputs": [
    {
     "name": "stdout",
     "output_type": "stream",
     "text": [
      "Enter x for exit\n",
      "Enter a number4\n",
      "enter b7\n",
      "enter c8\n",
      "The solutions =(-0.875-1.1110243021644486j) and (-0.875+1.1110243021644486j)\n"
     ]
    }
   ],
   "source": [
    "#roots of quadratic equation\n",
    "import cmath\n",
    "print(\"Enter x for exit\")\n",
    "a= float(input(\"Enter a number\"))\n",
    "if num=='x':\n",
    "    exit()\n",
    "else :\n",
    "    b= float(input(\"enter b\"))\n",
    "    c= float(input(\"enter c\"))\n",
    "    d=(b**2)-(4*a*c)\n",
    "    r1=(-b-cmath.sqrt(d))/(2*a)\n",
    "    r2=(-b+cmath.sqrt(d))/(2*a)\n",
    "    print(\"The solutions ={0} and {1}\" .format(r1,r2))\n"
   ]
  },
  {
   "cell_type": "code",
   "execution_count": 11,
   "metadata": {},
   "outputs": [
    {
     "name": "stdout",
     "output_type": "stream",
     "text": [
      "3\n",
      "The equivalent binary number is 11\n"
     ]
    }
   ],
   "source": [
    "#convert a decimal to binary\n",
    "def dtob(n):\n",
    "    x=bin(n)\n",
    "    x=x[2:]\n",
    "    print(\"The equivalent binary number is\",x)\n",
    "y=int(input())\n",
    "dtob(y)"
   ]
  },
  {
   "cell_type": "code",
   "execution_count": 16,
   "metadata": {},
   "outputs": [
    {
     "name": "stdout",
     "output_type": "stream",
     "text": [
      "How many terms you want?5\n",
      "Fibonacci sequence\n",
      "0 , 1 , 1 , 2 , 3 , "
     ]
    }
   ],
   "source": [
    "#generate first n numbers of fibonacci numbers. Take n values from the user n - int(input())\n",
    "nterms=int(input(\"How many terms you want?\"))\n",
    "n1=0\n",
    "n2=1\n",
    "count=2\n",
    "if nterms<=0:\n",
    "    print(\"Please enter a positive integer\")\n",
    "elif nterms==1:\n",
    "    print(\"fibonacci sequence:\")\n",
    "    print(n1)\n",
    "else:\n",
    "    print(\"Fibonacci sequence\")\n",
    "    print(n1,\",\",n2,end=\" , \")\n",
    "    while count<nterms:\n",
    "        nth=n1+n2\n",
    "        print(nth,end=\" , \")\n",
    "        n1=n2\n",
    "        n2=nth\n",
    "        count +=1"
   ]
  },
  {
   "cell_type": "code",
   "execution_count": null,
   "metadata": {},
   "outputs": [],
   "source": []
  }
 ],
 "metadata": {
  "kernelspec": {
   "display_name": "Python 3",
   "language": "python",
   "name": "python3"
  },
  "language_info": {
   "codemirror_mode": {
    "name": "ipython",
    "version": 3
   },
   "file_extension": ".py",
   "mimetype": "text/x-python",
   "name": "python",
   "nbconvert_exporter": "python",
   "pygments_lexer": "ipython3",
   "version": "3.7.3"
  }
 },
 "nbformat": 4,
 "nbformat_minor": 2
}
