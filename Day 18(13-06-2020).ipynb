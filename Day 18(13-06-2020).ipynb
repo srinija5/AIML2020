{
 "cells": [
  {
   "cell_type": "markdown",
   "metadata": {},
   "source": [
    "### CSE - 221710310015  - ETTOM.SRINIJA"
   ]
  },
  {
   "cell_type": "markdown",
   "metadata": {},
   "source": [
    "### Machine Learning Intro:\n"
   ]
  },
  {
   "cell_type": "markdown",
   "metadata": {},
   "source": [
    "### 1. Regression: Regression comes into picture when the data has \n",
    "    - Float values\n",
    "### Classification: Classification comes into picture \n",
    "    - when regression doesn't."
   ]
  },
  {
   "cell_type": "markdown",
   "metadata": {},
   "source": [
    "### Steps of project\n",
    "1. Problem statement: \n",
    "    - aim , right model\n",
    "2. Data collection:\n",
    "    - Collect the related data\n",
    "3. Data cleaning:\n",
    "    - Handling missing values:\n",
    "        - \n",
    "    - Exploratory data analysis(EDA):\n",
    "        - Plotting, visualisation,having insights\n",
    "    - Encoding the categorical values: \n",
    "        - Means converting any type of data into numericals\n",
    "    - Outliers: \n",
    "        - Data that doesn't follow the pattern\n",
    "        - 1,2,3,4,5,6,7,8,900: (900)->outlier\n",
    "    - Scaling the variables(Column):\n",
    "4. Data selection:\n",
    "    - To check whether all the columns are required or must be emitted.\n",
    "5. Pick an algorithm:\n",
    "    - Pick the right model that suits the data\n",
    "6. Train the model:\n",
    "    - Pass the data info to the model(train)/algorithm\n",
    "    - Then the algorithm predicts for unknown values\n",
    "7. Validate the model: \n",
    "    - Metrics based\n",
    "    - Testing the model with unseen data\n",
    "8. Make Predictions:\n",
    "    - Use the selected model to test and predict\n",
    "9. VERY IMPORTANT ONE IS TO SELECT THE APPROPRIATE DATA \n",
    "10. AND A RIGHT MODEL THAT SUITS THE DATA\n",
    "### Algorithms are predefined in scikit learn package\n",
    "\n",
    "    \n"
   ]
  },
  {
   "cell_type": "markdown",
   "metadata": {},
   "source": [
    "### Programming:"
   ]
  },
  {
   "cell_type": "code",
   "execution_count": 6,
   "metadata": {},
   "outputs": [
    {
     "name": "stdout",
     "output_type": "stream",
     "text": [
      "{1: ['England', 'Ireland'], 2: ['France'], 3: ['Germany', 'Poland'], 4: ['England', 'France', 'Germany'], 5: ['France', 'Germany']}\n",
      "4\n",
      "5\n"
     ]
    }
   ],
   "source": [
    "#Question 11:\n",
    "#Input:\n",
    "#user_id = [1,1,2,3,3,4,4,4,5,5]\n",
    "#ancestry=[\"England\",\"Ireland\",\"France\",\"Germany\",\"Poland\",\"England\",\"France\",\"Germany\",\"France\",\"Germany\"]\n",
    "\n",
    "#If my required countries are France and Germany\n",
    "#required = ['France', 'Germany']\n",
    "\n",
    "#Output:\n",
    "#4\n",
    "#5\n",
    "\n",
    "user_id = [1,1,2,3,3,4,4,4,5,5]\n",
    "user=list(set(user_id))\n",
    "ancestry=[\"England\",\"Ireland\",\"France\",\"Germany\",\"Poland\",\"England\",\"France\",\"Germany\",\"France\",\"Germany\"]\n",
    "r={}\n",
    "for i in range(0,len(user_id)):\n",
    "    if(user_id[i] not in r.keys()):\n",
    "        r[user_id[i]]=[]\n",
    "        r[user_id[i]].append(ancestry[i])\n",
    "    else:\n",
    "        r[user_id[i]].append(ancestry[i])\n",
    "required=['France','Germany']\n",
    "print(r)\n",
    "for i in range(0,len(user)):\n",
    "    if(set(required).issubset(set(r[user[i]]))):\n",
    "        print(user[i])"
   ]
  },
  {
   "cell_type": "code",
   "execution_count": null,
   "metadata": {},
   "outputs": [],
   "source": []
  }
 ],
 "metadata": {
  "kernelspec": {
   "display_name": "Python 3",
   "language": "python",
   "name": "python3"
  },
  "language_info": {
   "codemirror_mode": {
    "name": "ipython",
    "version": 3
   },
   "file_extension": ".py",
   "mimetype": "text/x-python",
   "name": "python",
   "nbconvert_exporter": "python",
   "pygments_lexer": "ipython3",
   "version": "3.7.3"
  }
 },
 "nbformat": 4,
 "nbformat_minor": 2
}
