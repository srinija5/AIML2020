{
 "cells": [
  {
   "cell_type": "markdown",
   "metadata": {},
   "source": [
    "### CSE-221710310015-ETTOM.SRINIJA"
   ]
  },
  {
   "cell_type": "markdown",
   "metadata": {},
   "source": [
    "### Module:\n",
    "1. Pre-defined modules\n",
    "2. User-defined modules"
   ]
  },
  {
   "cell_type": "code",
   "execution_count": 2,
   "metadata": {},
   "outputs": [
    {
     "data": {
      "text/plain": [
       "'0123456789'"
      ]
     },
     "execution_count": 2,
     "metadata": {},
     "output_type": "execute_result"
    }
   ],
   "source": [
    "import string\n",
    "string.digits"
   ]
  },
  {
   "cell_type": "code",
   "execution_count": 3,
   "metadata": {},
   "outputs": [
    {
     "data": {
      "text/plain": [
       "'0123456789'"
      ]
     },
     "execution_count": 3,
     "metadata": {},
     "output_type": "execute_result"
    }
   ],
   "source": [
    "import string as s\n",
    "s.digits"
   ]
  },
  {
   "cell_type": "code",
   "execution_count": 5,
   "metadata": {},
   "outputs": [
    {
     "name": "stdout",
     "output_type": "stream",
     "text": [
      "0123456789\n",
      "!\"#$%&'()*+,-./:;<=>?@[\\]^_`{|}~\n"
     ]
    }
   ],
   "source": [
    "from string import digits,punctuation\n",
    "print(digits)\n",
    "print(punctuation)"
   ]
  },
  {
   "cell_type": "code",
   "execution_count": 9,
   "metadata": {},
   "outputs": [],
   "source": [
    "from string import *"
   ]
  },
  {
   "cell_type": "code",
   "execution_count": 12,
   "metadata": {},
   "outputs": [
    {
     "name": "stdout",
     "output_type": "stream",
     "text": [
      "15\n"
     ]
    }
   ],
   "source": [
    "list1=[1,2,3,4,5]\n",
    "sum=0\n",
    "for i in list1:\n",
    "    sum+=i\n",
    "print(sum)\n",
    "#print(sum(list1))"
   ]
  },
  {
   "cell_type": "markdown",
   "metadata": {},
   "source": [
    "## User- defined modules"
   ]
  },
  {
   "cell_type": "code",
   "execution_count": 1,
   "metadata": {},
   "outputs": [
    {
     "name": "stdout",
     "output_type": "stream",
     "text": [
      "Good afternoon karthik\n"
     ]
    }
   ],
   "source": [
    "#creating a module by clicking new-->text fil->giving some name to the file and filling the file with some functions\n",
    "import operations as o\n",
    "o.wish(\"karthik\")"
   ]
  },
  {
   "cell_type": "code",
   "execution_count": 3,
   "metadata": {},
   "outputs": [
    {
     "data": {
      "text/plain": [
       "'true'"
      ]
     },
     "execution_count": 3,
     "metadata": {},
     "output_type": "execute_result"
    }
   ],
   "source": [
    "o.result"
   ]
  },
  {
   "cell_type": "markdown",
   "metadata": {},
   "source": [
    "### Built-in libraries:\n",
    "1. math"
   ]
  },
  {
   "cell_type": "code",
   "execution_count": 2,
   "metadata": {},
   "outputs": [],
   "source": [
    "import math"
   ]
  },
  {
   "cell_type": "code",
   "execution_count": 5,
   "metadata": {},
   "outputs": [],
   "source": [
    "import statistics as st\n",
    "list1= list(range(1,21))"
   ]
  },
  {
   "cell_type": "code",
   "execution_count": 6,
   "metadata": {},
   "outputs": [
    {
     "name": "stdout",
     "output_type": "stream",
     "text": [
      "10.5\n"
     ]
    }
   ],
   "source": [
    "print(st.mean(list1))"
   ]
  },
  {
   "cell_type": "code",
   "execution_count": 8,
   "metadata": {},
   "outputs": [
    {
     "name": "stdout",
     "output_type": "stream",
     "text": [
      "10.5\n"
     ]
    }
   ],
   "source": [
    "print(sum(list1)/len(list1))"
   ]
  },
  {
   "cell_type": "code",
   "execution_count": 9,
   "metadata": {},
   "outputs": [
    {
     "name": "stdout",
     "output_type": "stream",
     "text": [
      "10.5\n"
     ]
    }
   ],
   "source": [
    "print(st.median(list1))"
   ]
  },
  {
   "cell_type": "code",
   "execution_count": 13,
   "metadata": {},
   "outputs": [
    {
     "name": "stdout",
     "output_type": "stream",
     "text": [
      "2\n"
     ]
    }
   ],
   "source": [
    "list2=[1,2,3,4,3,3,4,2,2,2]\n",
    "print(st.mode(list2))"
   ]
  },
  {
   "cell_type": "code",
   "execution_count": 14,
   "metadata": {},
   "outputs": [
    {
     "name": "stdout",
     "output_type": "stream",
     "text": [
      "0.9660917830792959\n"
     ]
    }
   ],
   "source": [
    "print(st.stdev(list2))"
   ]
  },
  {
   "cell_type": "code",
   "execution_count": 15,
   "metadata": {},
   "outputs": [
    {
     "name": "stdout",
     "output_type": "stream",
     "text": [
      "0.9333333333333333\n"
     ]
    }
   ],
   "source": [
    "print(st.variance(list2))"
   ]
  },
  {
   "cell_type": "markdown",
   "metadata": {},
   "source": [
    "## Random:\n",
    "1. randint() -> randint(start,stop),start and stop values are included\n",
    "2. randrange() -> stop value is excluded \\\n",
    "3. random() -> values between 0-1\n",
    "4. choice() -> choose any element from the given list\n",
    "5. choices() -> chooses multiple values"
   ]
  },
  {
   "cell_type": "code",
   "execution_count": 16,
   "metadata": {},
   "outputs": [
    {
     "name": "stdout",
     "output_type": "stream",
     "text": [
      "9\n",
      "3\n",
      "0.3000107499298472\n"
     ]
    }
   ],
   "source": [
    "import random\n",
    "print(random.randint(1,10))\n",
    "print(random.randrange(1,10))\n",
    "print(random.random())"
   ]
  },
  {
   "cell_type": "code",
   "execution_count": 20,
   "metadata": {},
   "outputs": [
    {
     "name": "stdout",
     "output_type": "stream",
     "text": [
      "3\n",
      "[2, 2, 1]\n"
     ]
    }
   ],
   "source": [
    "list1=[1,2,3,4,5]\n",
    "print(random.choice(list1)) #only one element choosen\n",
    "print(random.choices(list1,k=3)) # as many elements generated as asked for\n",
    "#k -> how many elements to extract"
   ]
  },
  {
   "cell_type": "markdown",
   "metadata": {},
   "source": [
    "## Os:\n",
    "1. rename()\n",
    "2. remove()\n",
    "3. mkdir()\n",
    "4. getcwd() : get current working directory\n",
    "5. listdir()\n",
    "6. rmdir()\n",
    "7. chdir():  change directory"
   ]
  },
  {
   "cell_type": "code",
   "execution_count": 22,
   "metadata": {},
   "outputs": [],
   "source": [
    "import os\n",
    "os.mkdir(\"sample1\")"
   ]
  },
  {
   "cell_type": "code",
   "execution_count": 23,
   "metadata": {},
   "outputs": [
    {
     "data": {
      "text/plain": [
       "'C:\\\\Users\\\\Srinaja'"
      ]
     },
     "execution_count": 23,
     "metadata": {},
     "output_type": "execute_result"
    }
   ],
   "source": [
    "os.getcwd()"
   ]
  },
  {
   "cell_type": "code",
   "execution_count": 24,
   "metadata": {},
   "outputs": [
    {
     "data": {
      "text/plain": [
       "['.atom',\n",
       " '.bash_history',\n",
       " '.gitconfig',\n",
       " '.ipynb_checkpoints',\n",
       " '.ipython',\n",
       " '.jupyter',\n",
       " '.matplotlib',\n",
       " '1st c prog',\n",
       " '3D Objects',\n",
       " 'AppData',\n",
       " 'Application Data',\n",
       " 'asds',\n",
       " 'Assignment 2 Day 4(28-05-2020).ipynb',\n",
       " 'Assignment 3 Day 5(29-05-2020).ipynb',\n",
       " 'Assignment 4 Day 6(30-5-2020).ipynb',\n",
       " 'Assignment 5 Day 7(01-06-2020).ipynb',\n",
       " 'Assignment 6 Day 8(02-06-2020).ipynb',\n",
       " 'Assignment Day3(27-05-2020).ipynb',\n",
       " 'Assignment Day3(27-05-20200.ipynb',\n",
       " 'Contacts',\n",
       " 'Cookies',\n",
       " 'CRT',\n",
       " 'Day 4 (28-05-2020).ipynb',\n",
       " 'Day 4(28-05-2020).ipynb',\n",
       " 'Day 5(29-05-2020).ipynb',\n",
       " 'Day 6(30-05-2020).ipynb',\n",
       " 'Day 7(01-06-2020).ipynb',\n",
       " 'Day 8(02-06-2020).ipynb',\n",
       " 'Day 9(03-06-2020).ipynb',\n",
       " 'Day2(27-05-2020).ipynb',\n",
       " 'demo.txt',\n",
       " 'Desktop',\n",
       " 'Documents',\n",
       " 'Downloads',\n",
       " 'Favorites',\n",
       " 'hfurf',\n",
       " 'IntelGraphicsProfiles',\n",
       " 'jigu',\n",
       " 'Links',\n",
       " 'Local Settings',\n",
       " 'MicrosoftEdgeBackups',\n",
       " 'Miniconda3',\n",
       " 'Music',\n",
       " 'My Documents',\n",
       " 'NetHood',\n",
       " 'NTUSER.DAT',\n",
       " 'ntuser.dat.LOG1',\n",
       " 'ntuser.dat.LOG2',\n",
       " 'NTUSER.DAT{112cf565-2c58-11ea-9449-c901771b0168}.TM.blf',\n",
       " 'NTUSER.DAT{112cf565-2c58-11ea-9449-c901771b0168}.TMContainer00000000000000000001.regtrans-ms',\n",
       " 'NTUSER.DAT{112cf565-2c58-11ea-9449-c901771b0168}.TMContainer00000000000000000002.regtrans-ms',\n",
       " 'ntuser.ini',\n",
       " 'OneDrive',\n",
       " 'operations.py',\n",
       " 'out.txt',\n",
       " 'Pictures',\n",
       " 'PrintHood',\n",
       " 'python',\n",
       " 'Recent',\n",
       " 'Recycle Bin - Shortcut.lnk',\n",
       " 'sample',\n",
       " 'sample1',\n",
       " 'Saved Games',\n",
       " 'Searches',\n",
       " 'SendTo',\n",
       " 'Start Menu',\n",
       " 'Templates',\n",
       " 'Untitled.ipynb',\n",
       " 'Untitled1.ipynb',\n",
       " 'Untitled2.ipynb',\n",
       " 'Untitled3.ipynb',\n",
       " 'Untitled4.ipynb',\n",
       " 'Untitled5.ipynb',\n",
       " 'Untitled6.ipynb',\n",
       " 'Untitled7.ipynb',\n",
       " 'Videos',\n",
       " '__pycache__']"
      ]
     },
     "execution_count": 24,
     "metadata": {},
     "output_type": "execute_result"
    }
   ],
   "source": [
    "os.listdir()"
   ]
  },
  {
   "cell_type": "code",
   "execution_count": 25,
   "metadata": {},
   "outputs": [],
   "source": [
    "os.rmdir(\"sample1\")"
   ]
  },
  {
   "cell_type": "markdown",
   "metadata": {},
   "source": [
    "## Numpy packages:\n",
    "1. oprational related numerics\n",
    "2. computational operations"
   ]
  },
  {
   "cell_type": "code",
   "execution_count": 26,
   "metadata": {},
   "outputs": [
    {
     "data": {
      "text/plain": [
       "numpy.ndarray"
      ]
     },
     "execution_count": 26,
     "metadata": {},
     "output_type": "execute_result"
    }
   ],
   "source": [
    "import numpy as np\n",
    "list1=[1,2,3,4,5]\n",
    "arr1=np.array(list1)\n",
    "type(arr1)"
   ]
  },
  {
   "cell_type": "code",
   "execution_count": 27,
   "metadata": {},
   "outputs": [
    {
     "data": {
      "text/plain": [
       "[1, 2, 3, 4, 5, 6, 7, 8, 9, 10]"
      ]
     },
     "execution_count": 27,
     "metadata": {},
     "output_type": "execute_result"
    }
   ],
   "source": [
    "list2=list(range(1,11))\n",
    "list2"
   ]
  },
  {
   "cell_type": "code",
   "execution_count": 28,
   "metadata": {},
   "outputs": [
    {
     "data": {
      "text/plain": [
       "array([ 1,  2,  3,  4,  5,  6,  7,  8,  9, 10])"
      ]
     },
     "execution_count": 28,
     "metadata": {},
     "output_type": "execute_result"
    }
   ],
   "source": [
    "arr2=np.arange(1,11)\n",
    "arr2"
   ]
  },
  {
   "cell_type": "markdown",
   "metadata": {},
   "source": [
    "### Difference between python list and numpy array\n",
    "1. less memory\n",
    "2. fast\n",
    "3. Convenient"
   ]
  },
  {
   "cell_type": "code",
   "execution_count": 32,
   "metadata": {},
   "outputs": [
    {
     "name": "stdout",
     "output_type": "stream",
     "text": [
      "24000\n",
      "400\n"
     ]
    }
   ],
   "source": [
    "#less memory\n",
    "import sys\n",
    "size=1000\n",
    "list1=list(range(size))\n",
    "print(sys.getsizeof(list1[0])*size)\n",
    "arr1=np.arange(100)\n",
    "print(arr1.itemsize*arr1.size)"
   ]
  },
  {
   "cell_type": "code",
   "execution_count": 34,
   "metadata": {},
   "outputs": [],
   "source": [
    "list1=list(range(size))\n",
    "list2=list(range(size))\n",
    "result=[x+y for x,y in zip(list1,list2)]\n",
    "\n",
    "arr1=np.arange(size)\n",
    "arr2=np.arange(size)\n",
    "result=arr1+arr2"
   ]
  },
  {
   "cell_type": "code",
   "execution_count": 37,
   "metadata": {},
   "outputs": [
    {
     "data": {
      "text/plain": [
       "[11, 13, 15, 27, 19]"
      ]
     },
     "execution_count": 37,
     "metadata": {},
     "output_type": "execute_result"
    }
   ],
   "source": [
    "l1=[1,2,3,4,5]\n",
    "l2=[10,11,12,23,14]\n",
    "result=[x+y for x,y in zip(l1,l2)]\n",
    "result"
   ]
  },
  {
   "cell_type": "code",
   "execution_count": 41,
   "metadata": {},
   "outputs": [
    {
     "name": "stdout",
     "output_type": "stream",
     "text": [
      "time for python list 0.0\n",
      "time for numpy array 0.0\n"
     ]
    }
   ],
   "source": [
    "#fast\n",
    "import time\n",
    "list1=list(range(size))\n",
    "list2=list(range(size))\n",
    "start=time.time()\n",
    "result=[x+y for x,y in zip(list1,list2)]\n",
    "print(\"time for python list\",time.time()-start)\n",
    "\n",
    "arr1=np.arange(size)\n",
    "arr2=np.arange(size)\n",
    "start=time.time()\n",
    "result=arr1+arr2\n",
    "print(\"time for numpy array\",time.time()-start)"
   ]
  },
  {
   "cell_type": "code",
   "execution_count": null,
   "metadata": {},
   "outputs": [],
   "source": []
  }
 ],
 "metadata": {
  "kernelspec": {
   "display_name": "Python 3",
   "language": "python",
   "name": "python3"
  },
  "language_info": {
   "codemirror_mode": {
    "name": "ipython",
    "version": 3
   },
   "file_extension": ".py",
   "mimetype": "text/x-python",
   "name": "python",
   "nbconvert_exporter": "python",
   "pygments_lexer": "ipython3",
   "version": "3.7.3"
  }
 },
 "nbformat": 4,
 "nbformat_minor": 2
}
