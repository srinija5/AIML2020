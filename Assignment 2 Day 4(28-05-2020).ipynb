{
 "cells": [
  {
   "cell_type": "code",
   "execution_count": 3,
   "metadata": {},
   "outputs": [
    {
     "name": "stdout",
     "output_type": "stream",
     "text": [
      "Enter any string: srinija@\n",
      "Vowels: 3\n",
      "Consonant: 4\n",
      "Special Character: 1\n"
     ]
    }
   ],
   "source": [
    "#Q1: accept string and determine no.of consonants,vowels,special characters\n",
    "\n",
    "str = input(\"Enter any string: \") \n",
    "def countCharacterType(str):  \n",
    "\tvowels = 0\n",
    "\tconsonant = 0\n",
    "\tspecialChar = 0\n",
    "\tdigit = 0\n",
    "\tfor i in range(0, len(str)): \n",
    "\t\t\n",
    "\t\tch = str[i] \n",
    "\t\tif ( (ch >= 'a' and ch <= 'z') or\n",
    "\t\t\t(ch >= 'A' and ch <= 'Z') ): \n",
    "\t\t\tch = ch.lower() \n",
    "\t\t\tif (ch == 'a' or ch == 'e' or ch == 'i'\n",
    "\t\t\t\t\t\tor ch == 'o' or ch == 'u'): \n",
    "\t\t\t\tvowels += 1\n",
    "\t\t\telse: \n",
    "\t\t\t\tconsonant += 1\n",
    "\t\t\n",
    "\t\telif (ch >= '0' and ch <= '9'): \n",
    "\t\t\tdigit += 1\n",
    "\t\telse: \n",
    "\t\t\tspecialChar += 1\n",
    "\t\n",
    "\tprint(\"Vowels:\", vowels) \n",
    "\tprint(\"Consonant:\", consonant) \n",
    "\t\n",
    "\tprint(\"Special Character:\", specialChar)\n",
    "countCharacterType(str)"
   ]
  },
  {
   "cell_type": "code",
   "execution_count": 6,
   "metadata": {},
   "outputs": [
    {
     "name": "stdout",
     "output_type": "stream",
     "text": [
      "Enter a string:aabaabcaaa\n",
      "Pairs: 3\n"
     ]
    }
   ],
   "source": [
    "#Q2:Count the no.of pairs of a in a given string\n",
    "a=input('Enter a string:').lower()\n",
    "p=0\n",
    "c=0\n",
    "for i in a:\n",
    "    if i=='a' and c==0:\n",
    "        c=1\n",
    "    elif i=='a' and c==1:\n",
    "        c=0\n",
    "        p=p+1\n",
    "    else:\n",
    "        c=0\n",
    "print(\"Pairs:\",p)"
   ]
  },
  {
   "cell_type": "code",
   "execution_count": 7,
   "metadata": {},
   "outputs": [
    {
     "name": "stdout",
     "output_type": "stream",
     "text": [
      "enter the brackets sequence((()))()\n",
      "4\n"
     ]
    }
   ],
   "source": [
    "#Q3:Paranthesis\n",
    "s1=input(\"enter the brackets sequence\")\n",
    "ope=0\n",
    "clo=0\n",
    "for i in range (0,len(s1)):\n",
    "    if s1[i]==\"(\":\n",
    "        ope = ope+1\n",
    "    else:\n",
    "        clo = clo+1\n",
    "if(ope==clo):\n",
    "    print(ope)"
   ]
  },
  {
   "cell_type": "code",
   "execution_count": 11,
   "metadata": {},
   "outputs": [
    {
     "name": "stdout",
     "output_type": "stream",
     "text": [
      "1\n",
      "100\n",
      "18\n"
     ]
    }
   ],
   "source": [
    "#Q4:Read the input as 2 limits and print the output as palindrome count between the two limits\n",
    "def isPalindrome(n: int) -> bool: \n",
    "    rev = 0\n",
    "    i = n \n",
    "    while i > 0: \n",
    "        rev = rev * 10 + i % 10\n",
    "        i //= 10 \n",
    "    return (n == rev) \n",
    "\n",
    "def countPal(minn: int, maxx: int) -> None: \n",
    "    c=0\n",
    "    for i in range(minn, maxx + 1): \n",
    "        if isPalindrome(i): \n",
    "            c+=1 \n",
    "    print(c)\n",
    "x=int(input())\n",
    "y=int(input())\n",
    "countPal(x,y)"
   ]
  },
  {
   "cell_type": "code",
   "execution_count": 3,
   "metadata": {},
   "outputs": [
    {
     "name": "stdout",
     "output_type": "stream",
     "text": [
      "127\n",
      "848\n"
     ]
    }
   ],
   "source": [
    "#Q5: Palindrome:Yes , Not palindrome: Reverse and add the string until palindrome\n",
    "n = int(input())\n",
    "while True :\n",
    "    if str(n) == str(n)[::-1]:\n",
    "        print(str(n)[::-1])\n",
    "        break\n",
    "    else:\n",
    "        n += int(str(n)[::-1])"
   ]
  },
  {
   "cell_type": "code",
   "execution_count": 1,
   "metadata": {},
   "outputs": [
    {
     "name": "stdout",
     "output_type": "stream",
     "text": [
      "enter the stringorange\n",
      "puboif"
     ]
    }
   ],
   "source": [
    "#Q6:orange->puboif\n",
    "s=input(\"enter the string\")\n",
    "s1=0\n",
    "vowel=['a','e','i','o','u']\n",
    "for i in s:\n",
    "    if i in vowel:\n",
    "        print(chr(ord(i)+1),end=\"\")\n",
    "    elif(ord(i)>65 and ord(i)<69)or(ord(i)>97 and ord(i)<101):\n",
    "        print(\"e\",end=\"\")\n",
    "    elif(ord(i)>69 and ord(i)<73)or(ord(i)>101 and ord(i)<105):\n",
    "        print(\"i\",end=\"\")\n",
    "    elif(ord(i)>73 and ord(i)<79)or(ord(i)>105 and ord(i)<111):\n",
    "        print(\"o\",end=\"\")\n",
    "    elif(ord(i)>79 and ord(i)<85)or(ord(i)>111 and ord(i)<117):\n",
    "        print(\"u\",end=\"\")\n",
    "    elif(ord(i)>85 and ord(i)<90)or(ord(i)>117 and ord(i)<122):\n",
    "        print(\"a\",end=\"\")"
   ]
  },
  {
   "cell_type": "code",
   "execution_count": 5,
   "metadata": {},
   "outputs": [
    {
     "name": "stdout",
     "output_type": "stream",
     "text": [
      "enter a stringsri123ni456ja\n",
      "21\n"
     ]
    }
   ],
   "source": [
    "#Q7:Accept input as string and display sum of digits as the output\n",
    "def sum_digits_string(str1):\n",
    "    sum_digit = 0\n",
    "    for x in str1:\n",
    "        if x.isdigit() == True:\n",
    "            z = int(x)\n",
    "            sum_digit = sum_digit + z\n",
    "\n",
    "    return sum_digit\n",
    "     \n",
    "print(sum_digits_string(input(\"enter a string\")))"
   ]
  },
  {
   "cell_type": "code",
   "execution_count": 6,
   "metadata": {},
   "outputs": [
    {
     "name": "stdout",
     "output_type": "stream",
     "text": [
      "Enter Score0.85\n",
      "B\n"
     ]
    }
   ],
   "source": [
    "#Q8:Score \n",
    "score=input(\"Enter Score\")\n",
    "s=float(score)\n",
    "if s>1.0:\n",
    "    print(\"Error\")\n",
    "elif s>=0.9:\n",
    "    print(\"A\")\n",
    "elif s>=0.8:\n",
    "    print(\"B\")\n",
    "elif s>=0.7:\n",
    "    print(\"C\")\n",
    "elif s>=0.6:\n",
    "    print(\"d\")\n",
    "else:\n",
    "    print(\"F\")"
   ]
  },
  {
   "cell_type": "code",
   "execution_count": 7,
   "metadata": {},
   "outputs": [
    {
     "name": "stdout",
     "output_type": "stream",
     "text": [
      "fizzbuzz\n",
      "1\n",
      "2\n",
      "fizz\n",
      "4\n",
      "buzz\n",
      "fizz\n",
      "7\n",
      "8\n",
      "fizz\n",
      "buzz\n",
      "11\n",
      "fizz\n",
      "13\n",
      "14\n",
      "fizzbuzz\n",
      "16\n",
      "17\n",
      "fizz\n",
      "19\n",
      "buzz\n",
      "fizz\n",
      "22\n",
      "23\n",
      "fizz\n",
      "buzz\n",
      "26\n",
      "fizz\n",
      "28\n",
      "29\n",
      "fizzbuzz\n",
      "31\n",
      "32\n",
      "fizz\n",
      "34\n",
      "buzz\n",
      "fizz\n",
      "37\n",
      "38\n",
      "fizz\n",
      "buzz\n",
      "41\n",
      "fizz\n",
      "43\n",
      "44\n",
      "fizzbuzz\n",
      "46\n",
      "47\n",
      "fizz\n",
      "49\n",
      "buzz\n"
     ]
    }
   ],
   "source": [
    "#Q9:fizz , buzz\n",
    "for fizzbuzz in range(51):\n",
    "    if( fizzbuzz %3==0 and fizzbuzz %5==0):\n",
    "        print(\"fizzbuzz\")\n",
    "        continue\n",
    "    elif fizzbuzz %3==0:\n",
    "        print(\"fizz\")\n",
    "        continue\n",
    "    elif fizzbuzz %5==0:\n",
    "        print(\"buzz\")\n",
    "        continue\n",
    "    print(fizzbuzz)"
   ]
  },
  {
   "cell_type": "code",
   "execution_count": 11,
   "metadata": {},
   "outputs": [
    {
     "name": "stdout",
     "output_type": "stream",
     "text": [
      "Input the first number45\n",
      "Input the second number23\n",
      "Input the third number40\n",
      "Median of the above three numbers -\n",
      "40\n"
     ]
    }
   ],
   "source": [
    "#Q10:To find median of three values\n",
    "x = input(\"Input the first number\")\n",
    "y = input(\"Input the second number\")\n",
    "z = input(\"Input the third number\")\n",
    "print(\"Median of the above three numbers -\")\n",
    "\n",
    "if y < x and x < z:\n",
    "    print(x)\n",
    "elif z < x and x < y:\n",
    "    print(x)\n",
    "    \n",
    "elif z < y and y < x:\n",
    "    print(y)\n",
    "elif x < y and y < z:\n",
    "    print(y)\n",
    "    \n",
    "elif y < z and z < x:\n",
    "    print(z)    \n",
    "elif x < z and z < y:\n",
    "    print(z)\n"
   ]
  },
  {
   "cell_type": "code",
   "execution_count": null,
   "metadata": {},
   "outputs": [],
   "source": []
  }
 ],
 "metadata": {
  "kernelspec": {
   "display_name": "Python 3",
   "language": "python",
   "name": "python3"
  },
  "language_info": {
   "codemirror_mode": {
    "name": "ipython",
    "version": 3
   },
   "file_extension": ".py",
   "mimetype": "text/x-python",
   "name": "python",
   "nbconvert_exporter": "python",
   "pygments_lexer": "ipython3",
   "version": "3.7.3"
  }
 },
 "nbformat": 4,
 "nbformat_minor": 2
}
